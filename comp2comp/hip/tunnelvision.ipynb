{
 "cells": [
  {
   "cell_type": "code",
   "execution_count": null,
   "metadata": {},
   "outputs": [],
   "source": [
    "import voxel as vx\n",
    "import tunnelvision as tv\n",
    "import numpy as np\n",
    "\n",
    "mv = vx.load(\"./segmentations/converted_dcm.nii.gz\")\n",
    "mv = mv.reformat((\"LR\", \"PA\", \"IS\"))\n",
    "np_mv = mv.A\n",
    "np_mv = np_mv.astype(np.int32)\n",
    "np_mv = np.expand_dims(np_mv, axis=0)\n",
    "np_mv = np.expand_dims(np_mv, axis=4)\n",
    "\n",
    "seg = vx.load(\"./rois/roi.nii.gz\")\n",
    "np_seg = seg.A\n",
    "np_seg_dim = seg.A\n",
    "np_seg = np_seg.astype(np.int32)\n",
    "np_seg = np.expand_dims(np_seg, axis=0)\n",
    "np_seg = np.expand_dims(np_seg, axis=4)\n",
    "\n",
    "hip_seg = vx.load(\"./segmentations/hip.nii.gz\")\n",
    "hip_seg = hip_seg.reformat((\"LR\", \"PA\", \"IS\"))\n",
    "np_hip_seg = hip_seg.A.astype(int)\n",
    "# set values not equal to 88 or 89 to 0\n",
    "np_hip_seg[(np_hip_seg != 88) & (np_hip_seg != 89)] = 0\n",
    "np_hip_seg[np_hip_seg != 0] = np_hip_seg[np_hip_seg != 0] + 4\n",
    "np_hip_seg[np_seg_dim != 0] = 0\n",
    "np_hip_seg = np_hip_seg.astype(np.int32)\n",
    "np_hip_seg = np.expand_dims(np_hip_seg, axis=0)\n",
    "np_hip_seg = np.expand_dims(np_hip_seg, axis=4)\n",
    "\n",
    "ax = tv.Axes(figsize=(512, 512))\n",
    "ax.imshow(np_mv)\n",
    "ax.imshow(np_seg, cmap=\"seg\")\n",
    "ax.imshow(np_hip_seg, cmap=\"seg\")\n",
    "ax.show()"
   ]
  }
 ],
 "metadata": {
  "kernelspec": {
   "display_name": "Python 3.8.16 ('c2c_env')",
   "language": "python",
   "name": "python3"
  },
  "language_info": {
   "codemirror_mode": {
    "name": "ipython",
    "version": 3
   },
   "file_extension": ".py",
   "mimetype": "text/x-python",
   "name": "python",
   "nbconvert_exporter": "python",
   "pygments_lexer": "ipython3",
   "version": "3.8.16"
  },
  "orig_nbformat": 4,
  "vscode": {
   "interpreter": {
    "hash": "62fd47c2f495fb43260e4f88a1d5487d18d4c091bac4d4df4eca96cade9f1e23"
   }
  }
 },
 "nbformat": 4,
 "nbformat_minor": 2
}
